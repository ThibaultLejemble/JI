{
 "cells": [
  {
   "cell_type": "markdown",
   "metadata": {},
   "source": [
    "# Guide d'aide Python\n",
    "\n",
    "- [Comment parcourir une chaine de caractères ?](#iter)\n",
    "- [Comment convertir un caractère en son code ASCII et inversement ?](#ascii)\n",
    "- [Comment vérifier qu'un caractère est une minuscule, une majuscule, ou un chiffre ?](#chartype)\n",
    "- [Comment ajouter des caractères à une chaine de caractères ?](#add)\n",
    "- [Comment manipuler une liste (tableau) ?](#list)\n",
    "- [Comment manipuler une liste de liste (tableau 2D) ?](#liste2d)\n",
    "- [Comment manipuler un dictionnaire ?](#dict)\n",
    "- [Comment convertir une chaine de caractères en liste de caractères et inversement ?](#convert)\n",
    "- [Comment couper une chaine de caractères en fonction d'un caractère séparateur ?](#split)\n",
    "- [Comment trouver un caractère et son indice dans une chaine de caractères ?](#find)"
   ]
  },
  {
   "cell_type": "markdown",
   "metadata": {},
   "source": [
    "## Comment parcourir une chaine de caractères ? <a class=\"anchor\" id=\"iter\"></a>"
   ]
  },
  {
   "cell_type": "code",
   "execution_count": 4,
   "metadata": {},
   "outputs": [
    {
     "name": "stdout",
     "output_type": "stream",
     "text": [
      "C\n",
      "e\n",
      "c\n",
      "i\n",
      " \n",
      "e\n",
      "s\n",
      "t\n",
      " \n",
      "u\n",
      "n\n",
      "e\n",
      " \n",
      "c\n",
      "h\n",
      "a\n",
      "i\n",
      "n\n",
      "e\n",
      "\n",
      "\n",
      "d\n",
      "e\n",
      " \n",
      "c\n",
      "a\n",
      "r\n",
      "a\n",
      "c\n",
      "t\n",
      "è\n",
      "r\n",
      "e\n",
      " \n",
      "P\n",
      "y\n",
      "t\n",
      "h\n",
      "o\n",
      "n\n",
      "0 C\n",
      "1 e\n",
      "2 c\n",
      "3 i\n",
      "4  \n",
      "5 e\n",
      "6 s\n",
      "7 t\n",
      "8  \n",
      "9 u\n",
      "10 n\n",
      "11 e\n",
      "12  \n",
      "13 c\n",
      "14 h\n",
      "15 a\n",
      "16 i\n",
      "17 n\n",
      "18 e\n",
      "19 \n",
      "\n",
      "20 d\n",
      "21 e\n",
      "22  \n",
      "23 c\n",
      "24 a\n",
      "25 r\n",
      "26 a\n",
      "27 c\n",
      "28 t\n",
      "29 è\n",
      "30 r\n",
      "31 e\n",
      "32  \n",
      "33 P\n",
      "34 y\n",
      "35 t\n",
      "36 h\n",
      "37 o\n",
      "38 n\n"
     ]
    }
   ],
   "source": [
    "message = \"\"\"\n",
    "Ceci est une chaine\n",
    "de caractère Python\n",
    "\"\"\"[1:-1]\n",
    "\n",
    "# 1ère solution: boucle for sur les caractères\n",
    "for c in message:\n",
    "    print(c)\n",
    "\n",
    "# taille du message = nombre de caractères\n",
    "character_count = len(message)\n",
    "\n",
    "# 2ème solution: boucle for sur des indices\n",
    "for i in range(character_count):\n",
    "    print(i, message[i])"
   ]
  },
  {
   "cell_type": "markdown",
   "metadata": {},
   "source": [
    "## Comment convertir un caractère en son code ASCII et inversement ? <a class=\"anchor\" id=\"ascii\"></a>\n",
    "\n",
    "Cf. [wikipedia.org/wiki/ASCII](https://en.wikipedia.org/wiki/ASCII)\n",
    "\n",
    "__Remarque__ : le saut de ligne est un caractère égal à '\\n'"
   ]
  },
  {
   "cell_type": "code",
   "execution_count": 10,
   "metadata": {},
   "outputs": [
    {
     "name": "stdout",
     "output_type": "stream",
     "text": [
      "ASCII = 97   char = a\n",
      "ASCII = 98   char = b\n",
      "ASCII = 99   char = c\n",
      "ASCII = 100   char = d\n",
      "ASCII = 101   char = e\n",
      "ASCII = 102   char = f\n",
      "ASCII = 10   char = \n",
      "\n",
      "ASCII = 65   char = A\n",
      "ASCII = 66   char = B\n",
      "ASCII = 67   char = C\n",
      "ASCII = 32   char =  \n",
      "ASCII = 46   char = .\n",
      "ASCII = 233   char = é\n",
      "ASCII = 95   char = _\n",
      "ASCII = 96   char = `\n",
      "ASCII = 97   char = a\n",
      "ASCII = 98   char = b\n",
      "ASCII = 99   char = c\n",
      "ASCII = 100   char = d\n",
      "ASCII = 101   char = e\n",
      "ASCII = 102   char = f\n"
     ]
    }
   ],
   "source": [
    "message = \"\"\"\n",
    "abcdef\n",
    "ABC .é\n",
    "\"\"\"[1:-1]\n",
    "\n",
    "# caractère -> ascii \n",
    "# fonction ord()\n",
    "for c in message:\n",
    "    ascii = ord(c)\n",
    "    print('ASCII =', ascii, '  char =', c)\n",
    "\n",
    "# ascii -> caractère\n",
    "# fonction chr()\n",
    "for ascii in range(95,103):\n",
    "    c = chr(ascii)\n",
    "    print('ASCII =', ascii, '  char =', c)\n",
    "    "
   ]
  },
  {
   "cell_type": "markdown",
   "metadata": {},
   "source": [
    "## Comment vérifier qu'un caractère est une minuscule, une majuscule, ou un chiffre ? <a class=\"anchor\" id=\"chartype\"></a>"
   ]
  },
  {
   "cell_type": "code",
   "execution_count": 36,
   "metadata": {},
   "outputs": [
    {
     "name": "stdout",
     "output_type": "stream",
     "text": [
      "a est une miniscule\n",
      "b est une miniscule\n",
      "c est une miniscule\n",
      "  n'est ni un minuscule, ni une majuscule, ni un chiffre\n",
      ": n'est ni un minuscule, ni une majuscule, ni un chiffre\n",
      "  n'est ni un minuscule, ni une majuscule, ni un chiffre\n",
      "X est une majuscule\n",
      "Y est une majuscule\n",
      "Z est une majuscule\n",
      "  n'est ni un minuscule, ni une majuscule, ni un chiffre\n",
      "0 est un chiffre\n",
      "5 est un chiffre\n",
      "9 est un chiffre\n",
      "  n'est ni un minuscule, ni une majuscule, ni un chiffre\n",
      "! n'est ni un minuscule, ni une majuscule, ni un chiffre\n"
     ]
    }
   ],
   "source": [
    "message = \"\"\"\n",
    "abc : XYZ 059 !\n",
    "\"\"\"[1:-1]\n",
    "\n",
    "for c in message:\n",
    "    if ord('a') <= ord(c) and ord(c) <= ord('z'):\n",
    "        print(c, 'est une miniscule')\n",
    "    elif ord('A') <= ord(c) and ord(c) <= ord('Z'):\n",
    "        print(c, 'est une majuscule')\n",
    "    elif ord('0') <= ord(c) and ord(c) <= ord('9'):\n",
    "        print(c, 'est un chiffre')\n",
    "    else:\n",
    "        print(c, 'n\\'est ni un minuscule, ni une majuscule, ni un chiffre')"
   ]
  },
  {
   "cell_type": "markdown",
   "metadata": {},
   "source": [
    "## Comment ajouter des caractères à une chaine de caractères ? <a class=\"anchor\" id=\"add\"></a>"
   ]
  },
  {
   "cell_type": "code",
   "execution_count": 12,
   "metadata": {},
   "outputs": [
    {
     "name": "stdout",
     "output_type": "stream",
     "text": [
      "a b\n",
      "C D\n"
     ]
    }
   ],
   "source": [
    "message = \"\" # chaine de caractère vide\n",
    "\n",
    "# utilisation de l'opérateur +=\n",
    "message += 'a'\n",
    "message += ' '\n",
    "message += 'b'\n",
    "message += '\\n' # retour à la ligne\n",
    "message += 'C'\n",
    "message += ' '\n",
    "message += chr(68) # 68 = code ASCII de D\n",
    "\n",
    "print(message)"
   ]
  },
  {
   "cell_type": "markdown",
   "metadata": {},
   "source": [
    "## Comment manipuler une liste (tableau) ? <a class=\"anchor\" id=\"list\"></a>"
   ]
  },
  {
   "cell_type": "code",
   "execution_count": 23,
   "metadata": {},
   "outputs": [
    {
     "name": "stdout",
     "output_type": "stream",
     "text": [
      "[2, 4, 6, 8]\n",
      "[0, 0, 0, 0, 0, 0, 0, 0, 0, 0]\n",
      "[]\n",
      "<class 'list'>\n",
      "length = 10\n",
      "list[5] = 5\n"
     ]
    }
   ],
   "source": [
    "# création d'une liste d'entier\n",
    "l0 = [2, 4, 6, 8] \n",
    "print(l0)\n",
    "\n",
    "# création d'une liste contenant 10 zéros\n",
    "l1 = [0 for _ in range(10)]\n",
    "print(l1)\n",
    "\n",
    "# list vide\n",
    "l2 = [] \n",
    "print(l2)\n",
    "\n",
    "\n",
    "l = []\n",
    "for i in range(10):\n",
    "    l.append(i) # ajout d'élément\n",
    "\n",
    "print(list)\n",
    "\n",
    "length = len(l) # taille de la liste = nombre d'éléments\n",
    "print('length =', length)\n",
    "\n",
    "value_5 = l[5] # accéder à l'élément d'indice 5\n",
    "print('list[5] =', value_5)\n"
   ]
  },
  {
   "cell_type": "markdown",
   "metadata": {},
   "source": [
    "## Comment manipuler une liste de liste (tableau 2D) ? <a class=\"anchor\" id=\"liste2d\"></a>"
   ]
  },
  {
   "cell_type": "code",
   "execution_count": 22,
   "metadata": {},
   "outputs": [
    {
     "name": "stdout",
     "output_type": "stream",
     "text": [
      "[[2, 4, 6, 8], [1, 3, 5, 9], [0, 1, 0, 1]]\n",
      "list[1][2] = 5\n",
      "ligne 0 = [2, 4, 6, 8]\n",
      "ligne 1 = [1, 3, 5, 9]\n",
      "ligne 2 = [0, 1, 0, 1]\n"
     ]
    }
   ],
   "source": [
    "l = [\n",
    "#    0  1  2  3\n",
    "    [2, 4, 6, 8], # 0\n",
    "    [1, 3, 5, 9], # 1\n",
    "    [0, 1, 0, 1], # 2\n",
    "]\n",
    "\n",
    "print(l)\n",
    "\n",
    "value_1_2 = l[1][2] # ligne 1, colonne 2\n",
    "print('list[1][2] =', value_1_2) \n",
    "\n",
    "# parcours ligne par ligne\n",
    "idx = 0\n",
    "for line in l:\n",
    "    print('ligne', idx, '=', line)\n",
    "    idx += 1"
   ]
  },
  {
   "cell_type": "markdown",
   "metadata": {},
   "source": [
    "## Comment manipuler un dictionnaire ? <a class=\"anchor\" id=\"dict\"></a>"
   ]
  },
  {
   "cell_type": "code",
   "execution_count": 35,
   "metadata": {},
   "outputs": [
    {
     "name": "stdout",
     "output_type": "stream",
     "text": [
      "{'apple': 123, 'banana': 89, 'orange': 12}\n",
      "dict[banana] = 89\n",
      "{'apple': 123, 'banana': 42, 'orange': 12, 'berry': 0}\n",
      "key = ['apple', 'banana', 'orange', 'berry']\n",
      "values = [123, 42, 12, 0]\n"
     ]
    }
   ],
   "source": [
    "# dictionnaire associant un nombre (value) à une chaine de caractères (key)\n",
    "d = {\n",
    "    # key: value,\n",
    "    'apple': 123,\n",
    "    'banana': 89,\n",
    "    'orange': 12,\n",
    "}\n",
    "print(d)\n",
    "\n",
    "# accés à partir d'une clef\n",
    "value_banana = d['banana']\n",
    "print('dict[banana] =', value_banana)\n",
    "\n",
    "# ajout ou modification\n",
    "d['banana'] = 42\n",
    "d['berry'] = 0\n",
    "print(d)\n",
    "\n",
    "# accéder aux keys/values avec des listes\n",
    "keys = list(d.keys())\n",
    "values = list(d.values())\n",
    "print('key =', keys)\n",
    "print('values =', values)"
   ]
  },
  {
   "cell_type": "markdown",
   "metadata": {},
   "source": [
    "## Comment convertir une chaine de caractères en liste de caractères et inversement ? <a class=\"anchor\" id=\"convert\"></a>"
   ]
  },
  {
   "cell_type": "code",
   "execution_count": 27,
   "metadata": {},
   "outputs": [
    {
     "name": "stdout",
     "output_type": "stream",
     "text": [
      "message = Ceci est une chaine de\n",
      "caractères Python !\n",
      "list = ['C', 'e', 'c', 'i', ' ', 'e', 's', 't', ' ', 'u', 'n', 'e', ' ', 'c', 'h', 'a', 'i', 'n', 'e', ' ', 'd', 'e', '\\n', 'c', 'a', 'r', 'a', 'c', 't', 'è', 'r', 'e', 's', ' ', 'P', 'y', 't', 'h', 'o', 'n', ' ', '!']\n",
      "message2 = Ceci est une chaine de\n",
      "caractères Python !\n"
     ]
    }
   ],
   "source": [
    "message = \"\"\"\n",
    "Ceci est une chaine de\n",
    "caractères Python !\n",
    "\"\"\"[1:-1]\n",
    "\n",
    "print('message =', message)\n",
    "\n",
    "# chaine -> liste\n",
    "l = list(message)\n",
    "\n",
    "print('list =', l)\n",
    "\n",
    "# liste -> chaine\n",
    "message2 = \"\".join(l) \n",
    "print('message2 =', message2)"
   ]
  },
  {
   "cell_type": "markdown",
   "metadata": {},
   "source": [
    "## Comment couper une chaine de caractères en fonction d'un caractère séparateur ? <a class=\"anchor\" id=\"split\"></a>"
   ]
  },
  {
   "cell_type": "code",
   "execution_count": 30,
   "metadata": {},
   "outputs": [
    {
     "name": "stdout",
     "output_type": "stream",
     "text": [
      "['Ceci', 'est', 'une', 'chaine', 'de\\ncaractères', 'Python', '!']\n"
     ]
    }
   ],
   "source": [
    "message = \"\"\"\n",
    "Ceci est une chaine de\n",
    "caractères Python !\n",
    "\"\"\"[1:-1]\n",
    "\n",
    "# coupe le message à chaque espace ' '\n",
    "# retourne une liste de chaine de caractères\n",
    "split = message.split(' ')\n",
    "\n",
    "print(split)"
   ]
  },
  {
   "cell_type": "markdown",
   "metadata": {},
   "source": [
    "## Comment trouver un caractère et son indice dans une chaine de caractères ? <a class=\"anchor\" id=\"find\"></a>"
   ]
  },
  {
   "cell_type": "code",
   "execution_count": 38,
   "metadata": {},
   "outputs": [
    {
     "name": "stdout",
     "output_type": "stream",
     "text": [
      "e est à l'indice 1\n",
      "Z est à l'indice -1\n"
     ]
    }
   ],
   "source": [
    "message = \"\"\"\n",
    "Ceci est une chaine de\n",
    "caractères Python !\n",
    "\"\"\"[1:-1]\n",
    "\n",
    "index_of_e = message.find('e')\n",
    "index_of_Z = message.find('Z')\n",
    "\n",
    "print('e est à l\\'indice', index_of_e)\n",
    "print('Z est à l\\'indice', index_of_Z) # -1 car Z n'est pas dans le message !"
   ]
  }
 ],
 "metadata": {
  "kernelspec": {
   "display_name": "Python 3",
   "language": "python",
   "name": "python3"
  },
  "language_info": {
   "codemirror_mode": {
    "name": "ipython",
    "version": 3
   },
   "file_extension": ".py",
   "mimetype": "text/x-python",
   "name": "python",
   "nbconvert_exporter": "python",
   "pygments_lexer": "ipython3",
   "version": "3.10.12"
  }
 },
 "nbformat": 4,
 "nbformat_minor": 2
}
