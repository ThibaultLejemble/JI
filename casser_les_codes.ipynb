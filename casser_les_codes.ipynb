{
 "cells": [
  {
   "cell_type": "markdown",
   "metadata": {},
   "source": [
    "# Casser les codes\n",
    "\n",
    "Plusieurs messages chiffrés sont interceptés. \n",
    "L'identitée cachée d'une personne y est dissimulée sous la forme de __15 nombres secrets__ qu'il faut découvrir au travers de __7 étapes__.\n",
    "Une fois tous les nombres secrets découverts, il faudra trouver un moyen de déterminer l'identitée de cette personne bien \"connue\" en cryptographie.\n",
    "\n",
    "* [Étape 1/7 Code de César](#etape1)\n",
    "* [Étape 2/7 Carré de Polybe](#etape2)\n",
    "* [Étape 3/7 Chiffrement ADFGVX](#etape3)\n",
    "* [Étape 4/7 Chiffrement par permutation](#etape4)\n",
    "* [Étape 5/7 Hash](#etape5)\n",
    "* [Étape 6/7 Stéganographie](#etape6)\n",
    "* [Étape 7/7 Analyse fréquentielle](#etape7)\n",
    "\n",
    "Pour chaque étape, quelques indices sont disponibles [ici](https://github.com/ThibaultLejemble/JI/tree/main/indices)."
   ]
  },
  {
   "cell_type": "markdown",
   "metadata": {},
   "source": [
    "## ▶ Étape 1/7 Code de César <a class=\"anchor\" id=\"etape1\"></a>\n",
    "\n",
    "Premier message en clair :\n",
    ">le mardi 9 novembre 2024 \n",
    ">\n",
    ">le message contenant les deux premiers nombres secrets \n",
    ">sera envoyé demain et sera chiffré \n",
    "\n",
    "Deuxième message chiffré :\n",
    ">oh phufuhgl 10 qryhpeuh 2024 \n",
    ">\n",
    ">ohv ghx{ suhplhuv qrpeuhv vhfuhwv vrqw ylqjw hw txlq}h  \n",
    "\n",
    "Comment déchiffrer ce message codé, en prenant en compte le permier message en clair ?"
   ]
  },
  {
   "cell_type": "code",
   "execution_count": 7,
   "metadata": {},
   "outputs": [],
   "source": [
    "message = \"\"\"\n",
    "oh phufuhgl 10 qryhpeuh 2024 \n",
    "\n",
    "ohv ghx{ suhplhuv qrpeuhv vhfuhwv vrqw ylqjw hw txlq}h\n",
    "\"\"\"[1:-1]\n"
   ]
  },
  {
   "cell_type": "markdown",
   "metadata": {},
   "source": [
    "## ▶ Étape 2/7 Carré de Polybe <a class=\"anchor\" id=\"etape2\"></a>\n",
    "\n",
    "Message chiffré :\n",
    "> 20 04 32  \n",
    "> 03 04 34 42  \n",
    "> 22 23 21 01 31 04 32  \n",
    "> 32 04 02 31 04 33 32  \n",
    "> 32 34 13 40 00 22 33 32  \n",
    "> 32 23 22 33  \n",
    "> 33 31 04 13 44 04  \n",
    "> 04 33  \n",
    "> 30 34 13 22 44 04\n",
    "\n",
    "Chaque paire de chiffre correspond à des coordonnées $(i,j)$ dans un tableau qui contient les lettres de l'alphabet réparties dans l'ordre.\n",
    "\n",
    "![Carré_de_Polybe](img/polybe.png)"
   ]
  },
  {
   "cell_type": "code",
   "execution_count": 8,
   "metadata": {},
   "outputs": [],
   "source": [
    "message = \"\"\"\n",
    "20 04 32\n",
    "03 04 34 42\n",
    "22 23 21 01 31 04 32\n",
    "32 04 02 31 04 33 32\n",
    "32 34 13 40 00 22 33 32\n",
    "32 23 22 33\n",
    "33 31 04 13 44 04\n",
    "04 33\n",
    "30 34 13 22 44 04\n",
    "\"\"\"[1:-1]\n",
    "\n"
   ]
  },
  {
   "cell_type": "markdown",
   "metadata": {},
   "source": [
    "## ▶ Étape 3/7 Chiffrement ADFGVX <a class=\"anchor\" id=\"etape3\"></a>\n",
    "\n",
    "Premier message en clair :\n",
    "> deux nombres secrets sont ici appelés x et y  \n",
    "> ils respectent les regles ennoncees dans le deuxieme message chiffre\n",
    "> \n",
    "> PS: portez ce vieux whisky au juge blond qui fume!\n",
    "\n",
    "Deuxième message chiffré :\n",
    ">XF AD DD VG AD AV AD XD FA DV VG AD VV DD VX XF AD DV FA XV GA DA DD XD AD GX FA XD DX VG DX FF XD AG AA FX AD VV DX FF FF DD DA DD DV GD DD AD DD DV VG DA DD AD XF AD DD VG AD AV AD DD XD VG AD DD GV FX AA DD AD FX AD VV DX XF AG FG VX DX VG AD XF AD GX AA VX XD AD VV FA VX DG DD AD AV AD VV FA DV DV DD AD GD DD DV VG AG AG GG XA GF AD GX FA DA VG DD DG AD GD DD AD XG DX DD VX XF AD FD FG DX XD VD AV AD FX VX AD AX VX GV DD AD GA AA FA DV VV AD DF VX DX AD FF VX XV DD XX\n",
    "\n",
    "Cette fois-ci, le message contient des paires de lettres, comment le décoder en fonction du message en clair ?"
   ]
  },
  {
   "cell_type": "code",
   "execution_count": 9,
   "metadata": {},
   "outputs": [],
   "source": [
    "message = \"\"\"\n",
    "XF AD DD VG AD AV AD XD FA DV VG AD VV DD VX XF AD DV FA XV GA DA DD XD AD GX FA XD DX VG DX FF XD AG AA FX AD VV DX FF FF DD DA DD DV GD DD AD DD DV VG DA DD AD XF AD DD VG AD AV AD DD XD VG AD DD GV FX AA DD AD FX AD VV DX XF AG FG VX DX VG AD XF AD GX AA VX XD AD VV FA VX DG DD AD AV AD VV FA DV DV DD AD GD DD DV VG AG AG GG XA GF AD GX FA DA VG DD DG AD GD DD AD XG DX DD VX XF AD FD FG DX XD VD AV AD FX VX AD AX VX GV DD AD GA AA FA DV VV AD DF VX DX AD FF VX XV DD XX\n",
    "\"\"\"[1:-1]\n",
    "\n"
   ]
  },
  {
   "cell_type": "markdown",
   "metadata": {},
   "source": [
    "## ▶ Étape 4/7 Chiffrement par permutation\n",
    "\n",
    "Message chiffré : \n",
    ">ce messageéin2 oehfifct mer srrt oe tcsnsnceb ---!  \n",
    ">-------------------------------------------------!  \n",
    ">le 1er nom à++b3-ee sg+-+-t2 +- 1a é---l-0r44----!  \n",
    ">le 2ème not 00m00r eeé1/00s0000l0gà 001a0 b000000!  \n",
    ">-------------------------------------------------!  \n",
    ">PS: portezusju udev i  ogue l qiawkxi nh ycbefume!  \n",
    "\n",
    "Comment déchiffrer ce nouveau message ? Y-a-t-il une certaine ressemblance avec un message précédent ? "
   ]
  },
  {
   "cell_type": "code",
   "execution_count": 10,
   "metadata": {},
   "outputs": [],
   "source": [
    "message = \"\"\"\n",
    "ce messageéin2 oehfifct mer srrt oe tcsnsnceb ---!\n",
    "-------------------------------------------------!\n",
    "le 1er nom à++b3-ee sg+-+-t2 +- 1a é---l-0r44----!\n",
    "le 2ème not 00m00r eeé1/00s0000l0gà 001a0 b000000!\n",
    "-------------------------------------------------!\n",
    "PS: portezusju udev i  ogue l qiawkxi nh ycbefume!\n",
    "\"\"\"[1:-1]\n",
    "\n"
   ]
  },
  {
   "cell_type": "markdown",
   "metadata": {},
   "source": [
    "## ▶ Étape 5/7 Hash"
   ]
  },
  {
   "cell_type": "markdown",
   "metadata": {},
   "source": [
    "Une fonction de hachage permet de réduire n'importe quelle chaîne de charactères comme un fichier ou un mot-de-passe en une série de nombres.\n",
    "\n",
    "La figure ci-dessous contient 6 mots \"_login_\" avec leur hash correspondant \"_H(login)_\". \n",
    "\n",
    "Dans un premier temps, déterminer cette fonction de hachage inconnue.\n",
    "\n",
    "Ensuite, déterminer les trois nombres secrets en calculant le hash des mots suivants :\n",
    ">KZEV  \n",
    ">CX  \n",
    ">YTL  \n",
    "\n",
    "Cette étape de requiert pas de code Python."
   ]
  },
  {
   "cell_type": "markdown",
   "metadata": {},
   "source": [
    "![hash](img/h.png)"
   ]
  },
  {
   "cell_type": "markdown",
   "metadata": {},
   "source": [
    "## ▶ Étape 6/7 Stéganographie\n",
    "\n",
    "Deux nombres secrets sont cachés dans les deux messages suivants :\n",
    "\n",
    "![epita1](img/epita1.png) \n",
    "![epita1](img/epita1.png)"
   ]
  },
  {
   "cell_type": "code",
   "execution_count": 11,
   "metadata": {},
   "outputs": [],
   "source": [
    "message1 = \"\"\"\n",
    "_______________________________________________%%________________________$__________________________\n",
    "____________________________________________%%%%%_______________0_____****__________________________\n",
    "_________________________________________%%%%%%%%___%_______________*******_________________________\n",
    "______________________________________#%%%%%%%%%%___****_________$**********________________________\n",
    "___________________________________$%%%%%%%%%%%%%__*******_____**************_______________________\n",
    "_________________________________%%%%%%%%%%%%%%%%_***************************_______________________\n",
    "______________________________%%%%%%%%%%%%%%%%%%%*********#####***************______________________\n",
    "___________________________%%%%%%%%%%%%%%%%%%%%%%*******##########*************_____________________\n",
    "________________________#######################%%****###############************____________________\n",
    "_____________________#########################%%%**#############################____________________\n",
    "__________________##############################%#0##############################___________________\n",
    "_______________##__________$####________#####%%%____###_______________######__####__________________\n",
    "____________#####__________$####__________*%%%%%____###_______________######___####_________________\n",
    "_________########___############___####$____%%%%____########____###########_____###$________________\n",
    "______*##########___############___###%%%___%%%%____########____##########______####________________\n",
    "___%#############___############___#%%%%%____%%%____########__0_#########*_______####*______________\n",
    "_################__________$####___%%%%%%___*%%%____%%%%%%%%____%%%%%%%%%___%%____%%%%##____________\n",
    "__###1###########__________$###%___%%%%%____%%%%____%%%%%%%%____%%%%%%%%____%%%___#%%%%####_________\n",
    "_____############___########%%%%___%%______%%%%%____%%%%%%%%____%%%%%%%____%%%%____%%%%######_______\n",
    "_______$#########___######%%%%%%_________%%%%%%%____%%%%%%%%____%%%%%%%0__%%%%%%____%%%%########____\n",
    "__________#######___###%%%%%%%%%___%%%%%%%%%%%%%____%%%%%%%%____%%%%%%____1__________%%%%#########__\n",
    "_____________****__________*%%%%___%%%%%%%%%%%%%____%%%%%%%%____%%%%%____%%%%%%%%%___%%%%%########__\n",
    "_______________$*__________*%%%%___%%%%%%%%%%%%%____%%%%%%%%____%%%%____%%%%%%%%%%____%%%%#_________\n",
    "________________%%%%%%%%%%%%%%%%%@@@@@@@@@@@@@@@@@@%%%%%%%%%%%%%%%%%%%%%%%%%%%%%%%%%%%%%%%%_________\n",
    "_____________%%%%##%#%*%%%%%%%%%@@@%@#@%%@@@@%@@%%%@#@@%@@%@%@@@%%@#@%@%@@@@##%%*%#%%#%%%%%%________\n",
    "___________%%%%%%*#_%%#%%*%*%%%@@@@%%%@##*%@@#@%__$%%@@#@@%@*%@##@%*@%%_%%%%%%%%#%%%%*%%%%%%%_______\n",
    "________%%%%%%%%%%%%%%%%%%%%%%@@@@@@@@@@@@@@@@@@@@@@@@@@@@@@@@%%%%%%%%%%%%%%%%%%%%%%%%%%%%%%%$______\n",
    "_____________________________*%%%%%%%%%%%%%%%%%%%%%%%%______________________________________________\n",
    "_____________________________%%%%%%%%%%%%%%%%%%****_________________________________________________\n",
    "____________________________%%%%%%%%%%%#***********_________________________________________________\n",
    "___________________________%%%%%_____**************_______________________0_________________________\n",
    "_______________________________________$***********_________________________________________________\n",
    "__________________________________________*********_________________________________________________\n",
    "_____________________________________________******_________________________________________________\n",
    "________________________0______________________%***_________________________________________________\n",
    "__________________________________________________*%________________________________________________\n",
    "\"\"\"[1:-1]\n",
    "\n",
    "message2 = \"\"\"\n",
    "_______________________________________________%%________________________$__________________________\n",
    "____________________________________________%%%%%_____________________****__________________________\n",
    "_________________________________________%%%%%%%%___%_______________*******_________________________\n",
    "______________________________________#%%%%%%%%%%___****_________$**********________________________\n",
    "___________________________________$%%%%%%%%%%%%%__*******_____**************_______________________\n",
    "_________________________________%%%%%%%%%%%%%%%%_***************************_______________________\n",
    "______________________________%%%%%%%%%%%%%%%%%%%*********#####***************______________________\n",
    "___________________________%%%%%%%%%%%%%%%%%%%%%%*******##########*************_____________________\n",
    "________________________#######################%%****###############************______0_____________\n",
    "_____________________#########################%%%**#############################____________________\n",
    "__________________##############################%################################___________________\n",
    "_______________##__________$####________#####%%%____###_______________######__####__________________\n",
    "____________#####__________$##0#__________*%%%%%____###_______________######___####_________________\n",
    "_________########___############___####$____%%%%____########____###########_____###$________________\n",
    "______*##########___############___###%%%___%%%%____0#######____##########______####________________\n",
    "___%#############___############___#%%%%%____%%%____########____#########*_______####*______________\n",
    "_################__________$####___%%%%%%_0_*%%%____%%%%%%%%____%%%%%%%%%___%%____%%%%##____________\n",
    "__###############__________$###%___%%%%%____%%%%____%%%%%%%%____%%%%%%%%____%%%___#%%%%####_________\n",
    "_____############___########%%%%___%%______%%%%%____%%%%%%%%____%%%%%%%____%%%%____%%%%######_______\n",
    "_______$#########___######%%%%%%_1_______%%%%%%%____%%%%%%%%____%%%%%%%___%%%%%%____%%%%########____\n",
    "__________#######___###%%%%%%%%%___%%%%%%%%%%%%%____%%%%%%%%____%%%%%%_______________%%%%#########__\n",
    "_____________****__________*%%%%___%%%%%%%%%%%%%____%%%%%%%%____%%%%%____%%%%%%%%%___%%%%%########__\n",
    "_______________$*__________*%%%%___%%%%%%%%%%%%%____%%%%%%%%____%%%%____%%%%%%%%%%____%%%%#_________\n",
    "________________%%%%%%%%%%%%%%%%%@@@@@@@@@@@@@@@@@@%%%%%%%%%%%%%%%1%%%%%%%%%%%%%%%%%%%%%%%%_________\n",
    "_____________%%%%##%#%*%%%%%%%%%@@@%@#@%%@@@@%@@%%%@#@@%@@%@%@@@%%@#@%@%@@@@##%%*%#%%#%%%%%%________\n",
    "___________%%%%%%*#_%%#%%*%*%%%@@@@%%%@##*%@@#@%__$%%@@#@@%@*%@##@%*@%%_%%%%%%%%#%%%%*%%%%%%%_______\n",
    "________%%%%%%%%%%%%%%%%%%%%%%@@@@@@@@@@@@@@@@@@@@@@@@@@@@@@@@%%%%%%%%%%%%%%%%%%%%%%%%%%%%%%%$______\n",
    "_____________________________*%%%%%%%%%%%%%%%%%%%%%%%%______________________________________________\n",
    "_____________________________%%%%%%%%%%%%%%%%%%****_________________________________________________\n",
    "____________________________%%%%%%%%%%%#***********_________________________________________________\n",
    "___________________________%%%%%_____**************_________________________________________________\n",
    "_______________________________________$***********____________________________1____________________\n",
    "__________________________________________*********_________________________________________________\n",
    "_____________________________________________******_______________1_________________________________\n",
    "_______________________________________________%***_________________________________________________\n",
    "__________________________________________________*%________________________________________________\n",
    "\"\"\"[1:-1]\n",
    "\n",
    "\n"
   ]
  },
  {
   "cell_type": "markdown",
   "metadata": {},
   "source": [
    "## ▶ Étape 7/7 Analyse fréquentielle\n",
    "\n",
    "Les derniers nombres sont à trouver dans ce message chiffré : \n",
    ">Vhbvb vx-wxllhnl ng xqmktbm wx Wbdbixwbt lnk et vkrimhzktiabx. \n",
    ">\n",
    ">Lt vkrimhzktiabx xlm nmbebléx wxinbl e'tgmbjnbmé, xm e'ngx wxl nmbebltmbhgl exl ienl véeèukxl ihnk vxmmx éihjnx \n",
    ">xlm ex vabyykx wx Céltk, ghffé xg kéyékxgvx à Jnexl Céltk jnb e'nmbebltbm ihnk lxl vhffngbvtmbhgl lxvkèmxl. \n",
    ">Mtbl et vkrimhzktiabx xlm ubxg tgmékbxnkx à vxet : ex ienl tgvbxg whvnfxgm vabyyké xlm ngx kxvxmmx lxvkèmx wx \n",
    ">ihmxkbx wtmtgm wn XVIx lbèvex to. J.-C., ghméx lnk ngx mtuexmmx w'tkzbex jnb t émé wévhnoxkmx wtgl e'tvmnxe Iktd.\n",
    ">L'ablmhkbxg xg vkrimhzktiabx Dtobw Ktag vhglbwèkx e'anftgblmx Lxhg Btmmblmt Aeuxkmb vhffx ex \"ièkx wx et vkrimhzktiabx \n",
    ">hvvbwxgmtex\", zkâvx à mkhbl totgvéxl lbzgbybvtmboxl : \"et ienl tgvbxggx maéhkbx hvvbwxgmtex wx vkrimtgterlx, e'bgoxgmbhg \n",
    ">wx et lnulmbmnmbhg iherteiatuémbjnx, xm e'bgoxgmbhg wn vhwx wx vabyykxfxgm\".\n",
    ">Bbxg jn'éfbgxffxgm lmktmézbjnx, et vkrimhzktiabx xlm kxlméx ixgwtgm mkèl ehgzmxfil ng tkm, ihnk gx wxoxgbk ngx lvbxgvx \n",
    ">jn'tn XXIx lbèvex. Aoxv e'tiitkbmbhg wx e'bgyhkftmbjnx, lhg nmbebltmbhg lx ihinetkblx xm lx oneztkblx, jnbmmx à lx \n",
    ">utgteblxk xm à êmkx nmbebléx ltgl jnx e'nmbebltmxnk g'xg tbm vhglvbxgvx : ammil, vabyyktzx wxl invxl wx vtkmxl utgvtbkxl, \n",
    ">wxl vtkmxl SIM... \n",
    ">Egybg, et Ckrimhzktiabx ihlm-jntgmbjnx xlm ngx lhnl-wblvbiebgx wx et vkrimhzktiabx jnb vaxkvax à ikhihlxk wxl tezhkbmafxl \n",
    ">kélblmtgm tn vtevnetmxnk jntgmbjnx.\n",
    ">\n",
    ">Phnk xg kxoxgbk à ghl ghfukxl lxvkxml, exl wxnq wxkgbxkl lhgm wbq-gxny xm ng !\n",
    ">Aybg wx wévhnokbk e'bwxgmbméx lxvkèmx ybgtex, be kxlmxkt mhnm lbfiexfxgm à mktglyhkfxk mhnl vxl ghfukxl lxvkxml xg exmmkxl.\n",
    "\n",
    "Peut-être est-ce un code de César amélioré ? Seul certitude, le message est en Français... "
   ]
  },
  {
   "cell_type": "code",
   "execution_count": 12,
   "metadata": {},
   "outputs": [],
   "source": [
    "message = \"\"\"\n",
    "Vhbvb vx-wxllhnl ng xqmktbm wx Wbdbixwbt lnk et vkrimhzktiabx. \n",
    "\n",
    "Lt vkrimhzktiabx xlm nmbebléx wxinbl e'tgmbjnbmé, xm e'ngx wxl nmbebltmbhgl exl ienl véeèukxl ihnk vxmmx éihjnx \n",
    "xlm ex vabyykx wx Céltk, ghffé xg kéyékxgvx à Jnexl Céltk jnb e'nmbebltbm ihnk lxl vhffngbvtmbhgl lxvkèmxl. \n",
    "Mtbl et vkrimhzktiabx xlm ubxg tgmékbxnkx à vxet : ex ienl tgvbxg whvnfxgm vabyyké xlm ngx kxvxmmx lxvkèmx wx \n",
    "ihmxkbx wtmtgm wn XVIx lbèvex to. J.-C., ghméx lnk ngx mtuexmmx w'tkzbex jnb t émé wévhnoxkmx wtgl e'tvmnxe Iktd.\n",
    "L'ablmhkbxg xg vkrimhzktiabx Dtobw Ktag vhglbwèkx e'anftgblmx Lxhg Btmmblmt Aeuxkmb vhffx ex \"ièkx wx et vkrimhzktiabx \n",
    "hvvbwxgmtex\", zkâvx à mkhbl totgvéxl lbzgbybvtmboxl : \"et ienl tgvbxggx maéhkbx hvvbwxgmtex wx vkrimtgterlx, e'bgoxgmbhg \n",
    "wx et lnulmbmnmbhg iherteiatuémbjnx, xm e'bgoxgmbhg wn vhwx wx vabyykxfxgm\".\n",
    "Bbxg jn'éfbgxffxgm lmktmézbjnx, et vkrimhzktiabx xlm kxlméx ixgwtgm mkèl ehgzmxfil ng tkm, ihnk gx wxoxgbk ngx lvbxgvx \n",
    "jn'tn XXIx lbèvex. Aoxv e'tiitkbmbhg wx e'bgyhkftmbjnx, lhg nmbebltmbhg lx ihinetkblx xm lx oneztkblx, jnbmmx à lx \n",
    "utgteblxk xm à êmkx nmbebléx ltgl jnx e'nmbebltmxnk g'xg tbm vhglvbxgvx : ammil, vabyyktzx wxl invxl wx vtkmxl utgvtbkxl, \n",
    "wxl vtkmxl SIM... \n",
    "Egybg, et Ckrimhzktiabx ihlm-jntgmbjnx xlm ngx lhnl-wblvbiebgx wx et vkrimhzktiabx jnb vaxkvax à ikhihlxk wxl tezhkbmafxl \n",
    "kélblmtgm tn vtevnetmxnk jntgmbjnx.\n",
    "\n",
    "Phnk xg kxoxgbk à ghl ghfukxl lxvkxml, exl wxnq wxkgbxkl lhgm wbq-gxny xm ng !\n",
    "Aybg wx wévhnokbk e'bwxgmbméx lxvkèmx ybgtex, be kxlmxkt mhnm lbfiexfxgm à mktglyhkfxk mhnl vxl ghfukxl lxvkxml xg exmmkxl.\n",
    "\"\"\"[1:-1]\n",
    "\n"
   ]
  },
  {
   "cell_type": "markdown",
   "metadata": {},
   "source": [
    "# ▶ Étape finale \n",
    "\n",
    "__Qui est donc la personne qui se cache derrière tous ces messages codés ?__ "
   ]
  }
 ],
 "metadata": {
  "kernelspec": {
   "display_name": "Python 3",
   "language": "python",
   "name": "python3"
  },
  "language_info": {
   "codemirror_mode": {
    "name": "ipython",
    "version": 3
   },
   "file_extension": ".py",
   "mimetype": "text/x-python",
   "name": "python",
   "nbconvert_exporter": "python",
   "pygments_lexer": "ipython3",
   "version": "3.12.3"
  }
 },
 "nbformat": 4,
 "nbformat_minor": 2
}
